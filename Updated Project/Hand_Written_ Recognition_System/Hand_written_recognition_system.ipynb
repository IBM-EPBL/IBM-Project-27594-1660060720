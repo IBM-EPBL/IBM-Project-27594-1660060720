{
  "cells": [
    {
      "cell_type": "markdown",
      "metadata": {
        "id": "zI_AXKKHobQp"
      },
      "source": [
        "**Importing Necessary Libraries**\n"
      ]
    },
    {
      "cell_type": "code",
      "execution_count": 2,
      "metadata": {
        "id": "g9S-8HF3pHPk"
      },
      "outputs": [],
      "source": [
        "import numpy #used for numerical analysis\n",
        "import tensorflow #open source used for both ML and DL for computation\n",
        "from tensorflow.keras.datasets import mnist #Mnist dataset\n",
        "from tensorflow.keras.models import Sequential #it is a plain stack of layers\n",
        "from tensorflow.keras import layers #A layer consistes of a tensor-in tensor-out computation function\n",
        "from tensorflow.keras.layers import Dense, Flatten #Dense-Dense layer is the regular deeply connected\n",
        "#Flatten-used for flattening the input or change the dimension\n",
        "from tensorflow.keras.layers import Conv2D #Convolutional Layer\n",
        "from keras.optimizers import Adam #optimizer\n",
        "from keras.utils import np_utils #used for one-hot coding"
      ]
    },
    {
      "cell_type": "markdown",
      "metadata": {
        "id": "LEThdTpSiChl"
      },
      "source": [
        "**Load Data**"
      ]
    },
    {
      "cell_type": "code",
      "execution_count": 3,
      "metadata": {
        "colab": {
          "base_uri": "https://localhost:8080/"
        },
        "id": "W3XQ_d0czNNV",
        "outputId": "ff1b15e3-3582-4ceb-d7ed-66a710197c6a"
      },
      "outputs": [
        {
          "name": "stdout",
          "output_type": "stream",
          "text": [
            "Downloading data from https://storage.googleapis.com/tensorflow/tf-keras-datasets/mnist.npz\n",
            "11490434/11490434 [==============================] - 0s 0us/step\n"
          ]
        }
      ],
      "source": [
        "(x_train, y_train), (X_test, y_test)=mnist.load_data() #splitting the mnist data into train and test"
      ]
    },
    {
      "cell_type": "code",
      "execution_count": 4,
      "metadata": {
        "colab": {
          "base_uri": "https://localhost:8080/"
        },
        "id": "YNh-ejtY0J-7",
        "outputId": "1463fc0e-30b4-4b61-c2c2-3eed6f262419"
      },
      "outputs": [
        {
          "name": "stdout",
          "output_type": "stream",
          "text": [
            "(60000, 28, 28)\n"
          ]
        },
        {
          "data": {
            "text/plain": [
              "(10000, 28, 28)"
            ]
          },
          "execution_count": 4,
          "metadata": {},
          "output_type": "execute_result"
        }
      ],
      "source": [
        "print(x_train.shape)#shape is used for give the dimension values #60000-rows 28x28-pixels paint\n",
        "(68000, 28, 28)\n",
        "(10000, 28, 28)"
      ]
    },
    {
      "cell_type": "markdown",
      "metadata": {
        "id": "R00MOD9diNkV"
      },
      "source": [
        "**Understanding the data**"
      ]
    },
    {
      "cell_type": "code",
      "execution_count": 5,
      "metadata": {
        "colab": {
          "base_uri": "https://localhost:8080/"
        },
        "id": "XSZ_Pp1q09vR",
        "outputId": "12b14490-06a5-4ae6-8e60-f66649cb4193"
      },
      "outputs": [
        {
          "data": {
            "text/plain": [
              "array([[  0,   0,   0,   0,   0,   0,   0,   0,   0,   0,   0,   0,   0,\n",
              "          0,   0,   0,   0,   0,   0,   0,   0,   0,   0,   0,   0,   0,\n",
              "          0,   0],\n",
              "       [  0,   0,   0,   0,   0,   0,   0,   0,   0,   0,   0,   0,   0,\n",
              "          0,   0,   0,   0,   0,   0,   0,   0,   0,   0,   0,   0,   0,\n",
              "          0,   0],\n",
              "       [  0,   0,   0,   0,   0,   0,   0,   0,   0,   0,   0,   0,   0,\n",
              "          0,   0,   0,   0,   0,   0,   0,   0,   0,   0,   0,   0,   0,\n",
              "          0,   0],\n",
              "       [  0,   0,   0,   0,   0,   0,   0,   0,   0,   0,   0,   0,   0,\n",
              "          0,   0,   0,   0,   0,   0,   0,   0,   0,   0,   0,   0,   0,\n",
              "          0,   0],\n",
              "       [  0,   0,   0,   0,   0,   0,   0,   0,   0,   0,   0,   0,   0,\n",
              "          0,   0,   0,   0,   0,   0,   0,   0,   0,   0,   0,   0,   0,\n",
              "          0,   0],\n",
              "       [  0,   0,   0,   0,   0,   0,   0,   0,   0,   0,   0,   0,   3,\n",
              "         18,  18,  18, 126, 136, 175,  26, 166, 255, 247, 127,   0,   0,\n",
              "          0,   0],\n",
              "       [  0,   0,   0,   0,   0,   0,   0,   0,  30,  36,  94, 154, 170,\n",
              "        253, 253, 253, 253, 253, 225, 172, 253, 242, 195,  64,   0,   0,\n",
              "          0,   0],\n",
              "       [  0,   0,   0,   0,   0,   0,   0,  49, 238, 253, 253, 253, 253,\n",
              "        253, 253, 253, 253, 251,  93,  82,  82,  56,  39,   0,   0,   0,\n",
              "          0,   0],\n",
              "       [  0,   0,   0,   0,   0,   0,   0,  18, 219, 253, 253, 253, 253,\n",
              "        253, 198, 182, 247, 241,   0,   0,   0,   0,   0,   0,   0,   0,\n",
              "          0,   0],\n",
              "       [  0,   0,   0,   0,   0,   0,   0,   0,  80, 156, 107, 253, 253,\n",
              "        205,  11,   0,  43, 154,   0,   0,   0,   0,   0,   0,   0,   0,\n",
              "          0,   0],\n",
              "       [  0,   0,   0,   0,   0,   0,   0,   0,   0,  14,   1, 154, 253,\n",
              "         90,   0,   0,   0,   0,   0,   0,   0,   0,   0,   0,   0,   0,\n",
              "          0,   0],\n",
              "       [  0,   0,   0,   0,   0,   0,   0,   0,   0,   0,   0, 139, 253,\n",
              "        190,   2,   0,   0,   0,   0,   0,   0,   0,   0,   0,   0,   0,\n",
              "          0,   0],\n",
              "       [  0,   0,   0,   0,   0,   0,   0,   0,   0,   0,   0,  11, 190,\n",
              "        253,  70,   0,   0,   0,   0,   0,   0,   0,   0,   0,   0,   0,\n",
              "          0,   0],\n",
              "       [  0,   0,   0,   0,   0,   0,   0,   0,   0,   0,   0,   0,  35,\n",
              "        241, 225, 160, 108,   1,   0,   0,   0,   0,   0,   0,   0,   0,\n",
              "          0,   0],\n",
              "       [  0,   0,   0,   0,   0,   0,   0,   0,   0,   0,   0,   0,   0,\n",
              "         81, 240, 253, 253, 119,  25,   0,   0,   0,   0,   0,   0,   0,\n",
              "          0,   0],\n",
              "       [  0,   0,   0,   0,   0,   0,   0,   0,   0,   0,   0,   0,   0,\n",
              "          0,  45, 186, 253, 253, 150,  27,   0,   0,   0,   0,   0,   0,\n",
              "          0,   0],\n",
              "       [  0,   0,   0,   0,   0,   0,   0,   0,   0,   0,   0,   0,   0,\n",
              "          0,   0,  16,  93, 252, 253, 187,   0,   0,   0,   0,   0,   0,\n",
              "          0,   0],\n",
              "       [  0,   0,   0,   0,   0,   0,   0,   0,   0,   0,   0,   0,   0,\n",
              "          0,   0,   0,   0, 249, 253, 249,  64,   0,   0,   0,   0,   0,\n",
              "          0,   0],\n",
              "       [  0,   0,   0,   0,   0,   0,   0,   0,   0,   0,   0,   0,   0,\n",
              "          0,  46, 130, 183, 253, 253, 207,   2,   0,   0,   0,   0,   0,\n",
              "          0,   0],\n",
              "       [  0,   0,   0,   0,   0,   0,   0,   0,   0,   0,   0,   0,  39,\n",
              "        148, 229, 253, 253, 253, 250, 182,   0,   0,   0,   0,   0,   0,\n",
              "          0,   0],\n",
              "       [  0,   0,   0,   0,   0,   0,   0,   0,   0,   0,  24, 114, 221,\n",
              "        253, 253, 253, 253, 201,  78,   0,   0,   0,   0,   0,   0,   0,\n",
              "          0,   0],\n",
              "       [  0,   0,   0,   0,   0,   0,   0,   0,  23,  66, 213, 253, 253,\n",
              "        253, 253, 198,  81,   2,   0,   0,   0,   0,   0,   0,   0,   0,\n",
              "          0,   0],\n",
              "       [  0,   0,   0,   0,   0,   0,  18, 171, 219, 253, 253, 253, 253,\n",
              "        195,  80,   9,   0,   0,   0,   0,   0,   0,   0,   0,   0,   0,\n",
              "          0,   0],\n",
              "       [  0,   0,   0,   0,  55, 172, 226, 253, 253, 253, 253, 244, 133,\n",
              "         11,   0,   0,   0,   0,   0,   0,   0,   0,   0,   0,   0,   0,\n",
              "          0,   0],\n",
              "       [  0,   0,   0,   0, 136, 253, 253, 253, 212, 135, 132,  16,   0,\n",
              "          0,   0,   0,   0,   0,   0,   0,   0,   0,   0,   0,   0,   0,\n",
              "          0,   0],\n",
              "       [  0,   0,   0,   0,   0,   0,   0,   0,   0,   0,   0,   0,   0,\n",
              "          0,   0,   0,   0,   0,   0,   0,   0,   0,   0,   0,   0,   0,\n",
              "          0,   0],\n",
              "       [  0,   0,   0,   0,   0,   0,   0,   0,   0,   0,   0,   0,   0,\n",
              "          0,   0,   0,   0,   0,   0,   0,   0,   0,   0,   0,   0,   0,\n",
              "          0,   0],\n",
              "       [  0,   0,   0,   0,   0,   0,   0,   0,   0,   0,   0,   0,   0,\n",
              "          0,   0,   0,   0,   0,   0,   0,   0,   0,   0,   0,   0,   0,\n",
              "          0,   0]], dtype=uint8)"
            ]
          },
          "execution_count": 5,
          "metadata": {},
          "output_type": "execute_result"
        }
      ],
      "source": [
        "x_train[0] #printing the first image"
      ]
    },
    {
      "cell_type": "code",
      "execution_count": 6,
      "metadata": {
        "colab": {
          "base_uri": "https://localhost:8080/"
        },
        "id": "HwfP60n80B5k",
        "outputId": "d81d5ded-0cfb-42b7-86ba-8ee547fb3d3d"
      },
      "outputs": [
        {
          "data": {
            "text/plain": [
              "5"
            ]
          },
          "execution_count": 6,
          "metadata": {},
          "output_type": "execute_result"
        }
      ],
      "source": [
        "y_train[0] #print the label of first image"
      ]
    },
    {
      "cell_type": "code",
      "execution_count": 7,
      "metadata": {
        "colab": {
          "base_uri": "https://localhost:8080/",
          "height": 282
        },
        "id": "2LkfKV6h1aDW",
        "outputId": "3b81cdcf-d88a-4916-a148-b8026f250857"
      },
      "outputs": [
        {
          "data": {
            "text/plain": [
              "<matplotlib.image.AxesImage at 0x7fbf8d67a5d0>"
            ]
          },
          "execution_count": 7,
          "metadata": {},
          "output_type": "execute_result"
        },
        {
          "data": {
            "image/png": "[encoded data removed]",
            "text/plain": [
              "<Figure size 432x288 with 1 Axes>"
            ]
          },
          "metadata": {
            "needs_background": "light"
          },
          "output_type": "display_data"
        }
      ],
      "source": [
        "import matplotlib.pyplot as plt #used for data visualization \n",
        "plt.imshow(x_train[0])  #ploting the index=0 image\n"
      ]
    },
    {
      "cell_type": "markdown",
      "metadata": {
        "id": "869lfQ-2it74"
      },
      "source": [
        "**Reshaping Dataset**"
      ]
    },
    {
      "cell_type": "code",
      "execution_count": 8,
      "metadata": {
        "id": "M566wpc319ka"
      },
      "outputs": [],
      "source": [
        "\n",
        "#Reshaping to format which CNN expects (batch, height, width, channels)\n",
        "x_train=x_train.reshape(60000, 28, 28, 1).astype('float32') \n",
        "X_test= X_test.reshape(10000, 28, 28, 1).astype('float32')"
      ]
    },
    {
      "cell_type": "markdown",
      "metadata": {
        "id": "CDCUdDzmi4JF"
      },
      "source": [
        "**One-Hot Encoding**"
      ]
    },
    {
      "cell_type": "code",
      "execution_count": 9,
      "metadata": {
        "id": "WqB9Q0W427sy"
      },
      "outputs": [],
      "source": [
        "\n",
        "#one hot encode\n",
        "number_of_classes = 10 #storing the no. of classes in a variable\n",
        "y_train= np_utils.to_categorical (y_train, number_of_classes) #converts the output in binary format\n",
        "y_test= np_utils.to_categorical (y_test, number_of_classes)"
      ]
    },
    {
      "cell_type": "code",
      "execution_count": 10,
      "metadata": {
        "colab": {
          "base_uri": "https://localhost:8080/"
        },
        "id": "rXL4lJCs3ZvT",
        "outputId": "68e9848f-11de-4612-f03b-66b3409c4a4d"
      },
      "outputs": [
        {
          "data": {
            "text/plain": [
              "array([0., 0., 0., 0., 0., 1., 0., 0., 0., 0.], dtype=float32)"
            ]
          },
          "execution_count": 10,
          "metadata": {},
          "output_type": "execute_result"
        }
      ],
      "source": [
        "y_train[0]"
      ]
    },
    {
      "cell_type": "markdown",
      "metadata": {
        "id": "S4Wr_kp6jPsG"
      },
      "source": [
        "**Creating the Model**"
      ]
    },
    {
      "cell_type": "code",
      "execution_count": 11,
      "metadata": {
        "id": "SKoe5brj3eEv"
      },
      "outputs": [],
      "source": [
        "\n",
        "#create model\n",
        "model=Sequential()\n",
        "#adding model Layer\n",
        "model.add(Conv2D (64, (3, 3), input_shape=(28, 28, 1), activation='relu'))\n",
        "model.add(Conv2D (32, (3, 3), activation='relu'))\n",
        "#model.add(Conv2D (32, (3, 3), activation=\"relu\"))\n",
        "#flatten the dimension of the image\n",
        "model.add(Flatten())\n",
        "#output Layer with 10 neurons\n",
        "model.add(Dense(number_of_classes, activation='softmax'))"
      ]
    },
    {
      "cell_type": "markdown",
      "metadata": {
        "id": "wHhsUwlhjbET"
      },
      "source": [
        "**Compiling the Model**"
      ]
    },
    {
      "cell_type": "code",
      "execution_count": 12,
      "metadata": {
        "id": "8WBg3P9d3tb7"
      },
      "outputs": [],
      "source": [
        "#compile model\n",
        "model.compile(loss='categorical_crossentropy', optimizer=\"Adam\", metrics=['accuracy'])\n"
      ]
    },
    {
      "cell_type": "markdown",
      "metadata": {
        "id": "VVILJWPcjmYv"
      },
      "source": [
        "**Fitting the Model**"
      ]
    },
    {
      "cell_type": "code",
      "execution_count": 13,
      "metadata": {
        "colab": {
          "base_uri": "https://localhost:8080/"
        },
        "id": "t3WKvA1r4SOy",
        "outputId": "8edcdd84-16c7-4dd1-de19-98fcfac0b3e4"
      },
      "outputs": [
        {
          "name": "stdout",
          "output_type": "stream",
          "text": [
            "Epoch 1/5\n",
            "1875/1875 [==============================] - 16s 4ms/step - loss: 0.2754 - accuracy: 0.9480 - val_loss: 0.1003 - val_accuracy: 0.9709\n",
            "Epoch 2/5\n",
            "1875/1875 [==============================] - 8s 4ms/step - loss: 0.0740 - accuracy: 0.9779 - val_loss: 0.0781 - val_accuracy: 0.9760\n",
            "Epoch 3/5\n",
            "1875/1875 [==============================] - 8s 4ms/step - loss: 0.0515 - accuracy: 0.9840 - val_loss: 0.0796 - val_accuracy: 0.9775\n",
            "Epoch 4/5\n",
            "1875/1875 [==============================] - 7s 4ms/step - loss: 0.0391 - accuracy: 0.9873 - val_loss: 0.0916 - val_accuracy: 0.9751\n",
            "Epoch 5/5\n",
            "1875/1875 [==============================] - 7s 4ms/step - loss: 0.0270 - accuracy: 0.9912 - val_loss: 0.1109 - val_accuracy: 0.9758\n"
          ]
        },
        {
          "data": {
            "text/plain": [
              "<keras.callbacks.History at 0x7fbf10334890>"
            ]
          },
          "execution_count": 13,
          "metadata": {},
          "output_type": "execute_result"
        }
      ],
      "source": [
        "#fit the model\n",
        "model.fit(x_train,y_train, validation_data=(X_test,y_test),epochs=5,batch_size=32)"
      ]
    },
    {
      "cell_type": "markdown",
      "metadata": {
        "id": "dGLqObJcj5Kv"
      },
      "source": [
        "**Observing the Metrics**"
      ]
    },
    {
      "cell_type": "code",
      "execution_count": 14,
      "metadata": {
        "colab": {
          "base_uri": "https://localhost:8080/"
        },
        "id": "Y0z8HZxZ5lvn",
        "outputId": "e35fa2a4-aa94-44d6-e26f-ae34a275ec85"
      },
      "outputs": [
        {
          "name": "stdout",
          "output_type": "stream",
          "text": [
            "Metrics(Test loss & Test Accuracy): \n",
            "[0.11093637347221375, 0.9757999777793884]\n"
          ]
        }
      ],
      "source": [
        "# final evaluation of the model\n",
        "metrics = model.evaluate(X_test, y_test, verbose=0) \n",
        "print(\"Metrics(Test loss & Test Accuracy): \") \n",
        "print(metrics)\n"
      ]
    },
    {
      "cell_type": "markdown",
      "metadata": {
        "id": "-5Hik7xlkF0i"
      },
      "source": [
        "**Predicting the Output**"
      ]
    },
    {
      "cell_type": "code",
      "execution_count": 15,
      "metadata": {
        "colab": {
          "base_uri": "https://localhost:8080/"
        },
        "id": "nSbvqOgc5-Ui",
        "outputId": "535ca0e3-4cbd-47cd-bfe4-2ea4ec876d16"
      },
      "outputs": [
        {
          "name": "stdout",
          "output_type": "stream",
          "text": [
            "1/1 [==============================] - 0s 94ms/step\n",
            "[[2.9683321e-14 9.1312506e-15 7.3521487e-17 1.1804635e-01 7.1459960e-13\n",
            "  8.8195366e-01 7.8554052e-14 3.0021294e-11 1.1676967e-08 8.9898777e-10]\n",
            " [1.0000000e+00 4.0331719e-17 1.6908752e-10 6.9805061e-18 5.1934783e-15\n",
            "  4.4819905e-14 8.0164257e-09 5.3338643e-15 1.3327360e-10 1.8134657e-11]\n",
            " [8.7367539e-28 1.5481910e-13 7.6272712e-16 8.7212481e-18 1.0000000e+00\n",
            "  6.6877126e-16 8.6866417e-20 5.5682435e-14 2.1180242e-09 1.6320235e-11]\n",
            " [6.9933757e-19 1.0000000e+00 7.2040018e-10 1.4640346e-13 9.7670205e-10\n",
            "  1.6309818e-14 3.1463685e-13 1.9528414e-10 4.4547801e-09 2.1831128e-12]]\n"
          ]
        }
      ],
      "source": [
        "prediction=model.predict(x_train[:4]) \n",
        "print(prediction)"
      ]
    },
    {
      "cell_type": "code",
      "execution_count": 16,
      "metadata": {
        "colab": {
          "base_uri": "https://localhost:8080/"
        },
        "id": "F-GEugLL61VG",
        "outputId": "58a990af-62d2-4cd5-8623-aacc9f35a6a5"
      },
      "outputs": [
        {
          "name": "stdout",
          "output_type": "stream",
          "text": [
            "[5 0 4 1]\n",
            "[[0. 0. 0. 0. 0. 0. 0. 1. 0. 0.]\n",
            " [0. 0. 1. 0. 0. 0. 0. 0. 0. 0.]\n",
            " [0. 1. 0. 0. 0. 0. 0. 0. 0. 0.]\n",
            " [1. 0. 0. 0. 0. 0. 0. 0. 0. 0.]]\n"
          ]
        }
      ],
      "source": [
        "import numpy as np\n",
        "print(np.argmax(prediction, axis=1)) #print our label from first 4 images\n",
        "print(y_test[:4]) #printing the actual labels"
      ]
    },
    {
      "cell_type": "markdown",
      "metadata": {
        "id": "rzJq_QLokSM6"
      },
      "source": [
        "**Saving the Model**"
      ]
    },
    {
      "cell_type": "code",
      "execution_count": 17,
      "metadata": {
        "id": "9FoS6QTW7Nrz"
      },
      "outputs": [],
      "source": [
        "# save the model\n",
        "model.save(r'/content/models/mnistCNN.h5')"
      ]
    },
    {
      "cell_type": "markdown",
      "metadata": {
        "id": "kl1jeZlukWZC"
      },
      "source": [
        "**Taking images as inputs and checking results**"
      ]
    },
    {
      "cell_type": "code",
      "execution_count": 24,
      "metadata": {
        "colab": {
          "base_uri": "https://localhost:8080/"
        },
        "id": "h1qvucww90ru",
        "outputId": "15ba829c-793a-4670-c0a6-8bf7bb434af0"
      },
      "outputs": [
        {
          "name": "stdout",
          "output_type": "stream",
          "text": [
            "1/1 [==============================] - 0s 95ms/step\n",
            "5\n",
            "1/1 [==============================] - 0s 17ms/step\n",
            "0\n",
            "1/1 [==============================] - 0s 14ms/step\n",
            "4\n",
            "1/1 [==============================] - 0s 14ms/step\n",
            "1\n"
          ]
        }
      ],
      "source": [
        "#importing the keras libraries and packages\n",
        "from tensorflow.keras.models import load_model\n",
        "model = load_model(r'/content/models/mnistCNN.h5')\n",
        "from PIL import Image #used for manipulating image uploaded by the user\n",
        "import numpy as np #used for numerical analysis\n",
        "for index in range(4):\n",
        "  img = Image.open('data/' + str(index) + '.png').convert(\"L\")  #convert image to monochrome\n",
        "  img=img.resize((28,28))# resizing of input image\n",
        "  im2arr=np.array(img) #converting to image\n",
        "  im2arr = im2arr.reshape(1,28,28,1) #reshaping according to our requirement\n",
        "  #Predicting the Test set results\n",
        "  y_pred=model.predict(im2arr) #predicting the results\n",
        "  predict = np.argmax(y_pred)\n",
        "  print(predict)\n"
      ]
    },
    {
      "cell_type": "code",
      "execution_count": null,
      "metadata": {
        "id": "jjAHw18tzPza"
      },
      "outputs": [],
      "source": []
    }
  ],
  "metadata": {
    "accelerator": "GPU",
    "colab": {
      "collapsed_sections": [],
      "provenance": []
    },
    "gpuClass": "standard",
    "kernelspec": {
      "display_name": "Python 3.10.7 64-bit",
      "language": "python",
      "name": "python3"
    },
    "language_info": {
      "name": "python",
      "version": "3.10.7"
    },
    "vscode": {
      "interpreter": {
        "hash": "18827b9f982ff3f53faeefbfa66b7ef20a546d37fb0bf69af0413a338fc94c05"
      }
    }
  },
  "nbformat": 4,
  "nbformat_minor": 0
}
